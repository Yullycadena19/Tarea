{
  "cells": [
    {
      "cell_type": "markdown",
      "metadata": {
        "id": "view-in-github",
        "colab_type": "text"
      },
      "source": [
        "<a href=\"https://colab.research.google.com/github/Yullycadena19/Tarea/blob/main/Copia_de_23_Clase_2_2.ipynb\" target=\"_parent\"><img src=\"https://colab.research.google.com/assets/colab-badge.svg\" alt=\"Open In Colab\"/></a>"
      ]
    },
    {
      "cell_type": "markdown",
      "id": "9cb88321-f126-46b7-bc12-f0db0b8ab5b6",
      "metadata": {
        "id": "9cb88321-f126-46b7-bc12-f0db0b8ab5b6"
      },
      "source": [
        "## Aprendizaje supervisado\n",
        "### Regresión lineal y Logística"
      ]
    },
    {
      "cell_type": "markdown",
      "id": "899e94d9-f5e6-412b-901d-8467180d1574",
      "metadata": {
        "id": "899e94d9-f5e6-412b-901d-8467180d1574"
      },
      "source": [
        "## https://archive.ics.uci.edu/ml/datasets/statlog+(german+credit+data)"
      ]
    },
    {
      "cell_type": "code",
      "execution_count": 1,
      "id": "5435c837",
      "metadata": {
        "id": "5435c837"
      },
      "outputs": [],
      "source": [
        "import pandas as pd\n",
        "import numpy as np\n",
        "import matplotlib.pyplot as plt\n",
        "from sklearn.linear_model import LogisticRegression\n",
        "from sklearn.neighbors import KNeighborsClassifier\n",
        "from sklearn.preprocessing import StandardScaler\n",
        "from sklearn.metrics import classification_report, accuracy_score, precision_score, recall_score,confusion_matrix"
      ]
    },
    {
      "cell_type": "code",
      "execution_count": 2,
      "id": "5745a452",
      "metadata": {
        "id": "5745a452",
        "outputId": "8e6edc7e-f889-45ce-e108-da65119ac097",
        "colab": {
          "base_uri": "https://localhost:8080/",
          "height": 255
        }
      },
      "outputs": [
        {
          "output_type": "execute_result",
          "data": {
            "text/plain": [
              "   Column1  Column2  Column3  Column4  Column5  Column6  Column7  Column8  \\\n",
              "0       11        6       34       43     1169       65       75        4   \n",
              "1       12       48       32       43     5951       61       73        2   \n",
              "2       14       12       34       46     2096       61       74        2   \n",
              "3       11       42       32       42     7882       61       74        2   \n",
              "4       11       24       33       40     4870       61       73        3   \n",
              "\n",
              "   Column9  Column10  ...  Column12  Column13  Column14  Column15  Column16  \\\n",
              "0       93       101  ...       121        67       143       152         2   \n",
              "1       92       101  ...       121        22       143       152         1   \n",
              "2       93       101  ...       121        49       143       152         1   \n",
              "3       93       103  ...       122        45       143       153         1   \n",
              "4       93       101  ...       124        53       143       153         2   \n",
              "\n",
              "   Column17  Column18  Column19  Column20  Column21  \n",
              "0       173         1       192       201         0  \n",
              "1       173         1       191       201         1  \n",
              "2       172         2       191       201         0  \n",
              "3       173         2       191       201         0  \n",
              "4       173         2       191       201         1  \n",
              "\n",
              "[5 rows x 21 columns]"
            ],
            "text/html": [
              "\n",
              "  <div id=\"df-d6f3b093-0e55-499e-ac5b-75cd3a3e31eb\" class=\"colab-df-container\">\n",
              "    <div>\n",
              "<style scoped>\n",
              "    .dataframe tbody tr th:only-of-type {\n",
              "        vertical-align: middle;\n",
              "    }\n",
              "\n",
              "    .dataframe tbody tr th {\n",
              "        vertical-align: top;\n",
              "    }\n",
              "\n",
              "    .dataframe thead th {\n",
              "        text-align: right;\n",
              "    }\n",
              "</style>\n",
              "<table border=\"1\" class=\"dataframe\">\n",
              "  <thead>\n",
              "    <tr style=\"text-align: right;\">\n",
              "      <th></th>\n",
              "      <th>Column1</th>\n",
              "      <th>Column2</th>\n",
              "      <th>Column3</th>\n",
              "      <th>Column4</th>\n",
              "      <th>Column5</th>\n",
              "      <th>Column6</th>\n",
              "      <th>Column7</th>\n",
              "      <th>Column8</th>\n",
              "      <th>Column9</th>\n",
              "      <th>Column10</th>\n",
              "      <th>...</th>\n",
              "      <th>Column12</th>\n",
              "      <th>Column13</th>\n",
              "      <th>Column14</th>\n",
              "      <th>Column15</th>\n",
              "      <th>Column16</th>\n",
              "      <th>Column17</th>\n",
              "      <th>Column18</th>\n",
              "      <th>Column19</th>\n",
              "      <th>Column20</th>\n",
              "      <th>Column21</th>\n",
              "    </tr>\n",
              "  </thead>\n",
              "  <tbody>\n",
              "    <tr>\n",
              "      <th>0</th>\n",
              "      <td>11</td>\n",
              "      <td>6</td>\n",
              "      <td>34</td>\n",
              "      <td>43</td>\n",
              "      <td>1169</td>\n",
              "      <td>65</td>\n",
              "      <td>75</td>\n",
              "      <td>4</td>\n",
              "      <td>93</td>\n",
              "      <td>101</td>\n",
              "      <td>...</td>\n",
              "      <td>121</td>\n",
              "      <td>67</td>\n",
              "      <td>143</td>\n",
              "      <td>152</td>\n",
              "      <td>2</td>\n",
              "      <td>173</td>\n",
              "      <td>1</td>\n",
              "      <td>192</td>\n",
              "      <td>201</td>\n",
              "      <td>0</td>\n",
              "    </tr>\n",
              "    <tr>\n",
              "      <th>1</th>\n",
              "      <td>12</td>\n",
              "      <td>48</td>\n",
              "      <td>32</td>\n",
              "      <td>43</td>\n",
              "      <td>5951</td>\n",
              "      <td>61</td>\n",
              "      <td>73</td>\n",
              "      <td>2</td>\n",
              "      <td>92</td>\n",
              "      <td>101</td>\n",
              "      <td>...</td>\n",
              "      <td>121</td>\n",
              "      <td>22</td>\n",
              "      <td>143</td>\n",
              "      <td>152</td>\n",
              "      <td>1</td>\n",
              "      <td>173</td>\n",
              "      <td>1</td>\n",
              "      <td>191</td>\n",
              "      <td>201</td>\n",
              "      <td>1</td>\n",
              "    </tr>\n",
              "    <tr>\n",
              "      <th>2</th>\n",
              "      <td>14</td>\n",
              "      <td>12</td>\n",
              "      <td>34</td>\n",
              "      <td>46</td>\n",
              "      <td>2096</td>\n",
              "      <td>61</td>\n",
              "      <td>74</td>\n",
              "      <td>2</td>\n",
              "      <td>93</td>\n",
              "      <td>101</td>\n",
              "      <td>...</td>\n",
              "      <td>121</td>\n",
              "      <td>49</td>\n",
              "      <td>143</td>\n",
              "      <td>152</td>\n",
              "      <td>1</td>\n",
              "      <td>172</td>\n",
              "      <td>2</td>\n",
              "      <td>191</td>\n",
              "      <td>201</td>\n",
              "      <td>0</td>\n",
              "    </tr>\n",
              "    <tr>\n",
              "      <th>3</th>\n",
              "      <td>11</td>\n",
              "      <td>42</td>\n",
              "      <td>32</td>\n",
              "      <td>42</td>\n",
              "      <td>7882</td>\n",
              "      <td>61</td>\n",
              "      <td>74</td>\n",
              "      <td>2</td>\n",
              "      <td>93</td>\n",
              "      <td>103</td>\n",
              "      <td>...</td>\n",
              "      <td>122</td>\n",
              "      <td>45</td>\n",
              "      <td>143</td>\n",
              "      <td>153</td>\n",
              "      <td>1</td>\n",
              "      <td>173</td>\n",
              "      <td>2</td>\n",
              "      <td>191</td>\n",
              "      <td>201</td>\n",
              "      <td>0</td>\n",
              "    </tr>\n",
              "    <tr>\n",
              "      <th>4</th>\n",
              "      <td>11</td>\n",
              "      <td>24</td>\n",
              "      <td>33</td>\n",
              "      <td>40</td>\n",
              "      <td>4870</td>\n",
              "      <td>61</td>\n",
              "      <td>73</td>\n",
              "      <td>3</td>\n",
              "      <td>93</td>\n",
              "      <td>101</td>\n",
              "      <td>...</td>\n",
              "      <td>124</td>\n",
              "      <td>53</td>\n",
              "      <td>143</td>\n",
              "      <td>153</td>\n",
              "      <td>2</td>\n",
              "      <td>173</td>\n",
              "      <td>2</td>\n",
              "      <td>191</td>\n",
              "      <td>201</td>\n",
              "      <td>1</td>\n",
              "    </tr>\n",
              "  </tbody>\n",
              "</table>\n",
              "<p>5 rows × 21 columns</p>\n",
              "</div>\n",
              "    <div class=\"colab-df-buttons\">\n",
              "\n",
              "  <div class=\"colab-df-container\">\n",
              "    <button class=\"colab-df-convert\" onclick=\"convertToInteractive('df-d6f3b093-0e55-499e-ac5b-75cd3a3e31eb')\"\n",
              "            title=\"Convert this dataframe to an interactive table.\"\n",
              "            style=\"display:none;\">\n",
              "\n",
              "  <svg xmlns=\"http://www.w3.org/2000/svg\" height=\"24px\" viewBox=\"0 -960 960 960\">\n",
              "    <path d=\"M120-120v-720h720v720H120Zm60-500h600v-160H180v160Zm220 220h160v-160H400v160Zm0 220h160v-160H400v160ZM180-400h160v-160H180v160Zm440 0h160v-160H620v160ZM180-180h160v-160H180v160Zm440 0h160v-160H620v160Z\"/>\n",
              "  </svg>\n",
              "    </button>\n",
              "\n",
              "  <style>\n",
              "    .colab-df-container {\n",
              "      display:flex;\n",
              "      gap: 12px;\n",
              "    }\n",
              "\n",
              "    .colab-df-convert {\n",
              "      background-color: #E8F0FE;\n",
              "      border: none;\n",
              "      border-radius: 50%;\n",
              "      cursor: pointer;\n",
              "      display: none;\n",
              "      fill: #1967D2;\n",
              "      height: 32px;\n",
              "      padding: 0 0 0 0;\n",
              "      width: 32px;\n",
              "    }\n",
              "\n",
              "    .colab-df-convert:hover {\n",
              "      background-color: #E2EBFA;\n",
              "      box-shadow: 0px 1px 2px rgba(60, 64, 67, 0.3), 0px 1px 3px 1px rgba(60, 64, 67, 0.15);\n",
              "      fill: #174EA6;\n",
              "    }\n",
              "\n",
              "    .colab-df-buttons div {\n",
              "      margin-bottom: 4px;\n",
              "    }\n",
              "\n",
              "    [theme=dark] .colab-df-convert {\n",
              "      background-color: #3B4455;\n",
              "      fill: #D2E3FC;\n",
              "    }\n",
              "\n",
              "    [theme=dark] .colab-df-convert:hover {\n",
              "      background-color: #434B5C;\n",
              "      box-shadow: 0px 1px 3px 1px rgba(0, 0, 0, 0.15);\n",
              "      filter: drop-shadow(0px 1px 2px rgba(0, 0, 0, 0.3));\n",
              "      fill: #FFFFFF;\n",
              "    }\n",
              "  </style>\n",
              "\n",
              "    <script>\n",
              "      const buttonEl =\n",
              "        document.querySelector('#df-d6f3b093-0e55-499e-ac5b-75cd3a3e31eb button.colab-df-convert');\n",
              "      buttonEl.style.display =\n",
              "        google.colab.kernel.accessAllowed ? 'block' : 'none';\n",
              "\n",
              "      async function convertToInteractive(key) {\n",
              "        const element = document.querySelector('#df-d6f3b093-0e55-499e-ac5b-75cd3a3e31eb');\n",
              "        const dataTable =\n",
              "          await google.colab.kernel.invokeFunction('convertToInteractive',\n",
              "                                                    [key], {});\n",
              "        if (!dataTable) return;\n",
              "\n",
              "        const docLinkHtml = 'Like what you see? Visit the ' +\n",
              "          '<a target=\"_blank\" href=https://colab.research.google.com/notebooks/data_table.ipynb>data table notebook</a>'\n",
              "          + ' to learn more about interactive tables.';\n",
              "        element.innerHTML = '';\n",
              "        dataTable['output_type'] = 'display_data';\n",
              "        await google.colab.output.renderOutput(dataTable, element);\n",
              "        const docLink = document.createElement('div');\n",
              "        docLink.innerHTML = docLinkHtml;\n",
              "        element.appendChild(docLink);\n",
              "      }\n",
              "    </script>\n",
              "  </div>\n",
              "\n",
              "\n",
              "<div id=\"df-05f0e439-355d-4544-9e22-e911abfe5b8e\">\n",
              "  <button class=\"colab-df-quickchart\" onclick=\"quickchart('df-05f0e439-355d-4544-9e22-e911abfe5b8e')\"\n",
              "            title=\"Suggest charts\"\n",
              "            style=\"display:none;\">\n",
              "\n",
              "<svg xmlns=\"http://www.w3.org/2000/svg\" height=\"24px\"viewBox=\"0 0 24 24\"\n",
              "     width=\"24px\">\n",
              "    <g>\n",
              "        <path d=\"M19 3H5c-1.1 0-2 .9-2 2v14c0 1.1.9 2 2 2h14c1.1 0 2-.9 2-2V5c0-1.1-.9-2-2-2zM9 17H7v-7h2v7zm4 0h-2V7h2v10zm4 0h-2v-4h2v4z\"/>\n",
              "    </g>\n",
              "</svg>\n",
              "  </button>\n",
              "\n",
              "<style>\n",
              "  .colab-df-quickchart {\n",
              "      --bg-color: #E8F0FE;\n",
              "      --fill-color: #1967D2;\n",
              "      --hover-bg-color: #E2EBFA;\n",
              "      --hover-fill-color: #174EA6;\n",
              "      --disabled-fill-color: #AAA;\n",
              "      --disabled-bg-color: #DDD;\n",
              "  }\n",
              "\n",
              "  [theme=dark] .colab-df-quickchart {\n",
              "      --bg-color: #3B4455;\n",
              "      --fill-color: #D2E3FC;\n",
              "      --hover-bg-color: #434B5C;\n",
              "      --hover-fill-color: #FFFFFF;\n",
              "      --disabled-bg-color: #3B4455;\n",
              "      --disabled-fill-color: #666;\n",
              "  }\n",
              "\n",
              "  .colab-df-quickchart {\n",
              "    background-color: var(--bg-color);\n",
              "    border: none;\n",
              "    border-radius: 50%;\n",
              "    cursor: pointer;\n",
              "    display: none;\n",
              "    fill: var(--fill-color);\n",
              "    height: 32px;\n",
              "    padding: 0;\n",
              "    width: 32px;\n",
              "  }\n",
              "\n",
              "  .colab-df-quickchart:hover {\n",
              "    background-color: var(--hover-bg-color);\n",
              "    box-shadow: 0 1px 2px rgba(60, 64, 67, 0.3), 0 1px 3px 1px rgba(60, 64, 67, 0.15);\n",
              "    fill: var(--button-hover-fill-color);\n",
              "  }\n",
              "\n",
              "  .colab-df-quickchart-complete:disabled,\n",
              "  .colab-df-quickchart-complete:disabled:hover {\n",
              "    background-color: var(--disabled-bg-color);\n",
              "    fill: var(--disabled-fill-color);\n",
              "    box-shadow: none;\n",
              "  }\n",
              "\n",
              "  .colab-df-spinner {\n",
              "    border: 2px solid var(--fill-color);\n",
              "    border-color: transparent;\n",
              "    border-bottom-color: var(--fill-color);\n",
              "    animation:\n",
              "      spin 1s steps(1) infinite;\n",
              "  }\n",
              "\n",
              "  @keyframes spin {\n",
              "    0% {\n",
              "      border-color: transparent;\n",
              "      border-bottom-color: var(--fill-color);\n",
              "      border-left-color: var(--fill-color);\n",
              "    }\n",
              "    20% {\n",
              "      border-color: transparent;\n",
              "      border-left-color: var(--fill-color);\n",
              "      border-top-color: var(--fill-color);\n",
              "    }\n",
              "    30% {\n",
              "      border-color: transparent;\n",
              "      border-left-color: var(--fill-color);\n",
              "      border-top-color: var(--fill-color);\n",
              "      border-right-color: var(--fill-color);\n",
              "    }\n",
              "    40% {\n",
              "      border-color: transparent;\n",
              "      border-right-color: var(--fill-color);\n",
              "      border-top-color: var(--fill-color);\n",
              "    }\n",
              "    60% {\n",
              "      border-color: transparent;\n",
              "      border-right-color: var(--fill-color);\n",
              "    }\n",
              "    80% {\n",
              "      border-color: transparent;\n",
              "      border-right-color: var(--fill-color);\n",
              "      border-bottom-color: var(--fill-color);\n",
              "    }\n",
              "    90% {\n",
              "      border-color: transparent;\n",
              "      border-bottom-color: var(--fill-color);\n",
              "    }\n",
              "  }\n",
              "</style>\n",
              "\n",
              "  <script>\n",
              "    async function quickchart(key) {\n",
              "      const quickchartButtonEl =\n",
              "        document.querySelector('#' + key + ' button');\n",
              "      quickchartButtonEl.disabled = true;  // To prevent multiple clicks.\n",
              "      quickchartButtonEl.classList.add('colab-df-spinner');\n",
              "      try {\n",
              "        const charts = await google.colab.kernel.invokeFunction(\n",
              "            'suggestCharts', [key], {});\n",
              "      } catch (error) {\n",
              "        console.error('Error during call to suggestCharts:', error);\n",
              "      }\n",
              "      quickchartButtonEl.classList.remove('colab-df-spinner');\n",
              "      quickchartButtonEl.classList.add('colab-df-quickchart-complete');\n",
              "    }\n",
              "    (() => {\n",
              "      let quickchartButtonEl =\n",
              "        document.querySelector('#df-05f0e439-355d-4544-9e22-e911abfe5b8e button');\n",
              "      quickchartButtonEl.style.display =\n",
              "        google.colab.kernel.accessAllowed ? 'block' : 'none';\n",
              "    })();\n",
              "  </script>\n",
              "</div>\n",
              "\n",
              "    </div>\n",
              "  </div>\n"
            ],
            "application/vnd.google.colaboratory.intrinsic+json": {
              "type": "dataframe",
              "variable_name": "data"
            }
          },
          "metadata": {},
          "execution_count": 2
        }
      ],
      "source": [
        "source = 'https://raw.githubusercontent.com/nparis87/MachineLearning/main/CreditQuality.csv'\n",
        "\n",
        "data = pd.read_csv(source, sep=';')\n",
        "\n",
        "data.head()"
      ]
    },
    {
      "cell_type": "code",
      "execution_count": 3,
      "id": "c3bb2c59",
      "metadata": {
        "id": "c3bb2c59",
        "outputId": "548008bc-9aa1-4bd2-ca4a-e79f9153fc22",
        "colab": {
          "base_uri": "https://localhost:8080/"
        }
      },
      "outputs": [
        {
          "output_type": "execute_result",
          "data": {
            "text/plain": [
              "(1000, 21)"
            ]
          },
          "metadata": {},
          "execution_count": 3
        }
      ],
      "source": [
        "data.shape"
      ]
    },
    {
      "cell_type": "markdown",
      "id": "e938bded-2f04-4c13-a8c8-c9cce95d040e",
      "metadata": {
        "id": "e938bded-2f04-4c13-a8c8-c9cce95d040e"
      },
      "source": [
        "## Partiendo los datos"
      ]
    },
    {
      "cell_type": "code",
      "execution_count": 4,
      "id": "6747e0f4",
      "metadata": {
        "id": "6747e0f4"
      },
      "outputs": [],
      "source": [
        "train = data.sample(800,random_state=10)\n",
        "test = data.iloc[np.invert(data.index.isin(train.index))]"
      ]
    },
    {
      "cell_type": "code",
      "execution_count": 5,
      "id": "a99656f0-55a6-43e8-85fd-d94b52648578",
      "metadata": {
        "id": "a99656f0-55a6-43e8-85fd-d94b52648578"
      },
      "outputs": [],
      "source": [
        "x_train=train"
      ]
    },
    {
      "cell_type": "code",
      "source": [
        "from re import X\n",
        "x_train=train.iloc[:,0:-1]\n",
        "y_train=train.iloc[:,-1]\n",
        "x_test=test.iloc[:,0:-1]\n",
        "y_test=test.iloc[:,-1]\n",
        "\n"
      ],
      "metadata": {
        "id": "qOeLFKYPSdDm"
      },
      "id": "qOeLFKYPSdDm",
      "execution_count": 6,
      "outputs": []
    },
    {
      "cell_type": "markdown",
      "id": "7810a19f-bb5e-41f4-a962-7a8f8d4e9f15",
      "metadata": {
        "id": "7810a19f-bb5e-41f4-a962-7a8f8d4e9f15"
      },
      "source": [
        "## Entrenar el modelo"
      ]
    },
    {
      "cell_type": "code",
      "execution_count": 7,
      "id": "e575ef99-d85a-4d09-900f-e6fe6afcc4d8",
      "metadata": {
        "collapsed": true,
        "jupyter": {
          "outputs_hidden": true
        },
        "tags": [],
        "id": "e575ef99-d85a-4d09-900f-e6fe6afcc4d8",
        "outputId": "8bd2739d-a659-4808-96b2-bb5665bffce8",
        "colab": {
          "base_uri": "https://localhost:8080/",
          "height": 74
        }
      },
      "outputs": [
        {
          "output_type": "execute_result",
          "data": {
            "text/plain": [
              "LogisticRegression(max_iter=500)"
            ],
            "text/html": [
              "<style>#sk-container-id-1 {color: black;}#sk-container-id-1 pre{padding: 0;}#sk-container-id-1 div.sk-toggleable {background-color: white;}#sk-container-id-1 label.sk-toggleable__label {cursor: pointer;display: block;width: 100%;margin-bottom: 0;padding: 0.3em;box-sizing: border-box;text-align: center;}#sk-container-id-1 label.sk-toggleable__label-arrow:before {content: \"▸\";float: left;margin-right: 0.25em;color: #696969;}#sk-container-id-1 label.sk-toggleable__label-arrow:hover:before {color: black;}#sk-container-id-1 div.sk-estimator:hover label.sk-toggleable__label-arrow:before {color: black;}#sk-container-id-1 div.sk-toggleable__content {max-height: 0;max-width: 0;overflow: hidden;text-align: left;background-color: #f0f8ff;}#sk-container-id-1 div.sk-toggleable__content pre {margin: 0.2em;color: black;border-radius: 0.25em;background-color: #f0f8ff;}#sk-container-id-1 input.sk-toggleable__control:checked~div.sk-toggleable__content {max-height: 200px;max-width: 100%;overflow: auto;}#sk-container-id-1 input.sk-toggleable__control:checked~label.sk-toggleable__label-arrow:before {content: \"▾\";}#sk-container-id-1 div.sk-estimator input.sk-toggleable__control:checked~label.sk-toggleable__label {background-color: #d4ebff;}#sk-container-id-1 div.sk-label input.sk-toggleable__control:checked~label.sk-toggleable__label {background-color: #d4ebff;}#sk-container-id-1 input.sk-hidden--visually {border: 0;clip: rect(1px 1px 1px 1px);clip: rect(1px, 1px, 1px, 1px);height: 1px;margin: -1px;overflow: hidden;padding: 0;position: absolute;width: 1px;}#sk-container-id-1 div.sk-estimator {font-family: monospace;background-color: #f0f8ff;border: 1px dotted black;border-radius: 0.25em;box-sizing: border-box;margin-bottom: 0.5em;}#sk-container-id-1 div.sk-estimator:hover {background-color: #d4ebff;}#sk-container-id-1 div.sk-parallel-item::after {content: \"\";width: 100%;border-bottom: 1px solid gray;flex-grow: 1;}#sk-container-id-1 div.sk-label:hover label.sk-toggleable__label {background-color: #d4ebff;}#sk-container-id-1 div.sk-serial::before {content: \"\";position: absolute;border-left: 1px solid gray;box-sizing: border-box;top: 0;bottom: 0;left: 50%;z-index: 0;}#sk-container-id-1 div.sk-serial {display: flex;flex-direction: column;align-items: center;background-color: white;padding-right: 0.2em;padding-left: 0.2em;position: relative;}#sk-container-id-1 div.sk-item {position: relative;z-index: 1;}#sk-container-id-1 div.sk-parallel {display: flex;align-items: stretch;justify-content: center;background-color: white;position: relative;}#sk-container-id-1 div.sk-item::before, #sk-container-id-1 div.sk-parallel-item::before {content: \"\";position: absolute;border-left: 1px solid gray;box-sizing: border-box;top: 0;bottom: 0;left: 50%;z-index: -1;}#sk-container-id-1 div.sk-parallel-item {display: flex;flex-direction: column;z-index: 1;position: relative;background-color: white;}#sk-container-id-1 div.sk-parallel-item:first-child::after {align-self: flex-end;width: 50%;}#sk-container-id-1 div.sk-parallel-item:last-child::after {align-self: flex-start;width: 50%;}#sk-container-id-1 div.sk-parallel-item:only-child::after {width: 0;}#sk-container-id-1 div.sk-dashed-wrapped {border: 1px dashed gray;margin: 0 0.4em 0.5em 0.4em;box-sizing: border-box;padding-bottom: 0.4em;background-color: white;}#sk-container-id-1 div.sk-label label {font-family: monospace;font-weight: bold;display: inline-block;line-height: 1.2em;}#sk-container-id-1 div.sk-label-container {text-align: center;}#sk-container-id-1 div.sk-container {/* jupyter's `normalize.less` sets `[hidden] { display: none; }` but bootstrap.min.css set `[hidden] { display: none !important; }` so we also need the `!important` here to be able to override the default hidden behavior on the sphinx rendered scikit-learn.org. See: https://github.com/scikit-learn/scikit-learn/issues/21755 */display: inline-block !important;position: relative;}#sk-container-id-1 div.sk-text-repr-fallback {display: none;}</style><div id=\"sk-container-id-1\" class=\"sk-top-container\"><div class=\"sk-text-repr-fallback\"><pre>LogisticRegression(max_iter=500)</pre><b>In a Jupyter environment, please rerun this cell to show the HTML representation or trust the notebook. <br />On GitHub, the HTML representation is unable to render, please try loading this page with nbviewer.org.</b></div><div class=\"sk-container\" hidden><div class=\"sk-item\"><div class=\"sk-estimator sk-toggleable\"><input class=\"sk-toggleable__control sk-hidden--visually\" id=\"sk-estimator-id-1\" type=\"checkbox\" checked><label for=\"sk-estimator-id-1\" class=\"sk-toggleable__label sk-toggleable__label-arrow\">LogisticRegression</label><div class=\"sk-toggleable__content\"><pre>LogisticRegression(max_iter=500)</pre></div></div></div></div></div>"
            ]
          },
          "metadata": {},
          "execution_count": 7
        }
      ],
      "source": [
        "logist = LogisticRegression(max_iter=500)\n",
        "logist.fit(x_train, y_train)"
      ]
    },
    {
      "cell_type": "code",
      "execution_count": 8,
      "id": "cdc3cdde-e190-4f72-afaa-be544a94b390",
      "metadata": {
        "id": "cdc3cdde-e190-4f72-afaa-be544a94b390"
      },
      "outputs": [],
      "source": [
        "y_pred = logist.predict(x_test)"
      ]
    },
    {
      "cell_type": "code",
      "source": [
        "confusion_matrix(y_test, y_pred) # el 41 es un verdadero falso y el 11 es un falso positivo, 124 y 24 si son correctos"
      ],
      "metadata": {
        "colab": {
          "base_uri": "https://localhost:8080/"
        },
        "id": "T-0iHkgEYC2Q",
        "outputId": "c3ead7a7-0b84-43ac-eaaf-c42c88d58a0e"
      },
      "id": "T-0iHkgEYC2Q",
      "execution_count": 9,
      "outputs": [
        {
          "output_type": "execute_result",
          "data": {
            "text/plain": [
              "array([[124,  11],\n",
              "       [ 41,  24]])"
            ]
          },
          "metadata": {},
          "execution_count": 9
        }
      ]
    },
    {
      "cell_type": "code",
      "source": [
        "print(classification_report(y_test, y_pred))"
      ],
      "metadata": {
        "colab": {
          "base_uri": "https://localhost:8080/"
        },
        "id": "Js8kSHwyYLyQ",
        "outputId": "80a48245-248d-41c2-a11d-88e981aa4805"
      },
      "id": "Js8kSHwyYLyQ",
      "execution_count": 10,
      "outputs": [
        {
          "output_type": "stream",
          "name": "stdout",
          "text": [
            "              precision    recall  f1-score   support\n",
            "\n",
            "           0       0.75      0.92      0.83       135\n",
            "           1       0.69      0.37      0.48        65\n",
            "\n",
            "    accuracy                           0.74       200\n",
            "   macro avg       0.72      0.64      0.65       200\n",
            "weighted avg       0.73      0.74      0.71       200\n",
            "\n"
          ]
        }
      ]
    },
    {
      "cell_type": "code",
      "execution_count": 10,
      "id": "3022db3d-9fd1-4cf9-a853-555c27e192b7",
      "metadata": {
        "id": "3022db3d-9fd1-4cf9-a853-555c27e192b7"
      },
      "outputs": [],
      "source": []
    },
    {
      "cell_type": "code",
      "execution_count": 11,
      "id": "0d582a47-f511-46c1-be07-e9880ed1c243",
      "metadata": {
        "id": "0d582a47-f511-46c1-be07-e9880ed1c243"
      },
      "outputs": [],
      "source": [
        "#logist.predict_proba(x_test_t)"
      ]
    },
    {
      "cell_type": "markdown",
      "source": [
        "TAREA\n",
        "ANALIZAR LO QUE HICIMOS, SI ES CORRECTO O NO, DAR UNA REOCMENDACION AL BANCO DE RIESGO A ASUMIR, MEJORAR EL MODELO. MEJORAR EL MODELO CON UN MEJOR CODIGO"
      ],
      "metadata": {
        "id": "VdwFaEtObewS"
      },
      "id": "VdwFaEtObewS"
    },
    {
      "cell_type": "markdown",
      "id": "c000fb21-f277-4659-96c2-6a919c3b9a49",
      "metadata": {
        "id": "c000fb21-f277-4659-96c2-6a919c3b9a49"
      },
      "source": [
        "### K Nearest Neighbors"
      ]
    },
    {
      "cell_type": "code",
      "execution_count": 12,
      "id": "b819fa2f-55af-4a25-af53-67f82f7a41b2",
      "metadata": {
        "id": "b819fa2f-55af-4a25-af53-67f82f7a41b2"
      },
      "outputs": [],
      "source": [
        "knn = KNeighborsClassifier(n_neighbors=3)\n",
        "# what's next??\n",
        "# Confusion matrix\n",
        "# Classification report"
      ]
    },
    {
      "cell_type": "markdown",
      "id": "063b4331-6071-4d08-93f5-8ec9eece7f85",
      "metadata": {
        "id": "063b4331-6071-4d08-93f5-8ec9eece7f85"
      },
      "source": [
        "## Overfitting test exercise"
      ]
    },
    {
      "cell_type": "code",
      "execution_count": 13,
      "id": "2066ce4e-0fd8-42d8-951f-430602c09790",
      "metadata": {
        "id": "2066ce4e-0fd8-42d8-951f-430602c09790"
      },
      "outputs": [],
      "source": [
        "train = []\n",
        "test = []\n",
        "for n in range(3, 11, 2):\n",
        "    knn = KNeighborsClassifier(n_neighbors=n)\n",
        "    knn.fit(x_train, y_train)\n",
        "\n",
        "    pred_train = knn.predict(x_train)\n",
        "    pred_test = knn.predict(x_test)\n",
        "\n",
        "    train.append(accuracy_score(y_train, pred_train))\n",
        "    test.append(accuracy_score(y_test, pred_test))"
      ]
    },
    {
      "cell_type": "markdown",
      "id": "2053591a-25e0-4a5c-a083-6ce11a8d5765",
      "metadata": {
        "id": "2053591a-25e0-4a5c-a083-6ce11a8d5765"
      },
      "source": [
        "## Trabajo en Clase\n",
        "\n",
        "Graph the overfitting test exercise. On the x axis goes the 'n'. On the Y axis graph the scores stored on the lists 'train' and 'test' as two independent series.\n",
        "\n",
        "Normalize data and test classification results in logistic regression. Is there any improvement in classification?\n",
        "\n",
        "Change the decision threshold so that the credit result is more strict in terms of credit allocation. What is the effect on ranking metrics?"
      ]
    },
    {
      "cell_type": "code",
      "execution_count": 13,
      "id": "3283b228-6e42-425a-b58c-2840eb2c7943",
      "metadata": {
        "id": "3283b228-6e42-425a-b58c-2840eb2c7943"
      },
      "outputs": [],
      "source": []
    },
    {
      "cell_type": "markdown",
      "source": [
        "TAREA"
      ],
      "metadata": {
        "id": "GYfTsFXmaYAs"
      },
      "id": "GYfTsFXmaYAs"
    },
    {
      "cell_type": "code",
      "source": [
        "fig, ax = plt.subplots()\n",
        "ax.plot(train, label='Train')\n",
        "ax.plot(test, label='Test')\n",
        "ax.legend()\n",
        "plt.show()"
      ],
      "metadata": {
        "colab": {
          "base_uri": "https://localhost:8080/",
          "height": 430
        },
        "id": "X5eqKRU1abmB",
        "outputId": "69394edd-7040-4161-9d66-4987771334ba"
      },
      "id": "X5eqKRU1abmB",
      "execution_count": 14,
      "outputs": [
        {
          "output_type": "display_data",
          "data": {
            "text/plain": [
              "<Figure size 640x480 with 1 Axes>"
            ],
            "image/png": "[encoded data removed]"
          },
          "metadata": {}
        }
      ]
    },
    {
      "cell_type": "code",
      "source": [
        "modelo = LogisticRegression(max_iter=500)\n",
        "modelo.fit(x_train, y_train)\n",
        "y_pred = modelo.predict(x_test)\n",
        "scaler = StandardScaler()\n",
        "X_train_normal = scaler.fit_transform(x_train)\n",
        "X_test_normal = scaler.transform(x_test)\n",
        "modelo_normal = LogisticRegression(max_iter=500)\n",
        "modelo_normal.fit(X_train_normal, y_train)\n",
        "y_pred_normal = modelo_normal.predict(X_test_normal)\n",
        "print(classification_report(y_test, y_pred_normal))"
      ],
      "metadata": {
        "colab": {
          "base_uri": "https://localhost:8080/"
        },
        "id": "FUsN7FS0bo_l",
        "outputId": "4afa32f9-b6c2-41bd-8a83-c9f6449fd5d4"
      },
      "id": "FUsN7FS0bo_l",
      "execution_count": 15,
      "outputs": [
        {
          "output_type": "stream",
          "name": "stdout",
          "text": [
            "              precision    recall  f1-score   support\n",
            "\n",
            "           0       0.76      0.89      0.82       135\n",
            "           1       0.64      0.42      0.50        65\n",
            "\n",
            "    accuracy                           0.73       200\n",
            "   macro avg       0.70      0.65      0.66       200\n",
            "weighted avg       0.72      0.73      0.72       200\n",
            "\n"
          ]
        }
      ]
    },
    {
      "cell_type": "markdown",
      "source": [
        "Al normalizar los datos el modelo es mas preciso y se obtienen mejores resultados\n",
        "\n",
        "\n",
        "\n",
        "\n"
      ],
      "metadata": {
        "id": "nT4g4pFOcMW2"
      },
      "id": "nT4g4pFOcMW2"
    },
    {
      "cell_type": "code",
      "source": [
        "(logist.predict_proba(x_test)[:, 0] > 0.3).sum()\n"
      ],
      "metadata": {
        "colab": {
          "base_uri": "https://localhost:8080/"
        },
        "id": "Wc4-yZOYcJx5",
        "outputId": "d2b5c2eb-fa22-4cfb-9b79-1c44e724fb8b"
      },
      "id": "Wc4-yZOYcJx5",
      "execution_count": 16,
      "outputs": [
        {
          "output_type": "execute_result",
          "data": {
            "text/plain": [
              "188"
            ]
          },
          "metadata": {},
          "execution_count": 16
        }
      ]
    },
    {
      "cell_type": "markdown",
      "source": [
        "El modelo se hace más estricto por lo que es más preciso, pero a la vez se estan perdiendo clientes nuevos"
      ],
      "metadata": {
        "id": "1fiTT4lrcZuJ"
      },
      "id": "1fiTT4lrcZuJ"
    },
    {
      "cell_type": "code",
      "source": [],
      "metadata": {
        "id": "aeJgHcw8cYqS"
      },
      "id": "aeJgHcw8cYqS",
      "execution_count": null,
      "outputs": []
    }
  ],
  "metadata": {
    "kernelspec": {
      "display_name": "Python 3",
      "language": "python",
      "name": "python3"
    },
    "language_info": {
      "codemirror_mode": {
        "name": "ipython",
        "version": 3
      },
      "file_extension": ".py",
      "mimetype": "text/x-python",
      "name": "python",
      "nbconvert_exporter": "python",
      "pygments_lexer": "ipython3",
      "version": "3.8.8"
    },
    "colab": {
      "provenance": [],
      "include_colab_link": true
    }
  },
  "nbformat": 4,
  "nbformat_minor": 5
}